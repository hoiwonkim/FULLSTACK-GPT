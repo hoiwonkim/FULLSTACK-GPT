{
 "cells": [
  {
   "cell_type": "code",
   "execution_count": 23,
   "metadata": {},
   "outputs": [
    {
     "name": "stdout",
     "output_type": "stream",
     "text": [
      "Here is a simple recipe for making soju at home:\n",
      "\n",
      "Ingredients:\n",
      "- 1 cup of rice\n",
      "- 1 cup of nuruk (Korean fermentation starter)\n",
      "- 8 cups of water\n",
      "- 1 tablespoon of yeast\n",
      "- 1 tablespoon of sugar (optional)\n",
      "\n",
      "Instructions:\n",
      "1. Rinse the rice thoroughly until the water runs clear.\n",
      "2. Soak the rice in water for about 1 hour, then drain.\n",
      "3. Cook the rice in a rice cooker or on the stovetop until it is fully cooked and slightly sticky.\n",
      "4. Let the cooked rice cool down to room temperature.\n",
      "5. In a large pot, dissolve the nuruk in 4 cups of warm water. Stir well until the nuruk is fully dissolved.\n",
      "6. Add the cooked rice to the pot and mix it with the nuruk mixture.\n",
      "7. Cover the pot with a clean cloth and let it sit at room temperature for about 2-3 days. Stir the mixture once a day.\n",
      "8. After 2-3 days, dissolve the yeast in 1 cup of warm water. Add it to the pot and mix well.\n",
      "9. Cover the pot again and let it ferment for another 2-3 days.\n",
      "10. After the fermentation process, strain the mixture through a cheesecloth or fine mesh strainer to remove any solids.\n",
      "11. Add the remaining 3 cups of water to the strained liquid and mix well.\n",
      "12. If desired, add sugar to taste and stir until it dissolves completely.\n",
      "13. Transfer the soju to clean bottles or jars and seal them tightly.\n",
      "14. Let the soju age for at least 1 week in the refrigerator before consuming.\n",
      "\n",
      "Please note that making soju at home requires proper knowledge and caution. It is also important to follow local laws and regulations regarding the production and consumption of alcohol. \n",
      "\n",
      "Here is a basic recipe for making bread:\n",
      "\n",
      "Ingredients:\n",
      "- 4 cups all-purpose flour\n",
      "- 2 teaspoons active dry yeast\n",
      "- 2 teaspoons salt\n",
      "- 2 tablespoons sugar\n",
      "- 2 tablespoons vegetable oil\n",
      "- 1 ½ cups warm water (around 110°F/43°C)\n",
      "\n",
      "Instructions:\n",
      "1. In a large mixing bowl, combine the warm water and sugar. Stir until the sugar is dissolved.\n",
      "2. Sprinkle the yeast over the water and let it sit for about 5 minutes until it becomes frothy.\n",
      "3. Add the flour, salt, and vegetable oil to the bowl. Mix everything together until a dough forms.\n",
      "4. Transfer the dough onto a floured surface and knead it for about 10 minutes until it becomes smooth and elastic. You can also use a stand mixer with a dough hook attachment for this step.\n",
      "5. Place the dough in a greased bowl, cover it with a clean kitchen towel, and let it rise in a warm place for about 1-2 hours or until it doubles in size.\n",
      "6. Once the dough has risen, punch it down to release any air bubbles. Shape it into a loaf by folding the sides towards the center and rolling it tightly.\n",
      "7. Place the shaped dough into a greased loaf pan, cover it with the kitchen towel, and let it rise for another 30-45 minutes.\n",
      "8. Preheat the oven to 375°F (190°C).\n",
      "9. Bake the bread in the preheated oven for about 30-35 minutes or until it turns golden brown and sounds hollow when tapped on the bottom.\n",
      "10. Remove the bread from the oven and let it cool on a wire rack before slicing.\n",
      "\n",
      "Note: You can customize your bread by adding ingredients like herbs, cheese, or seeds to the dough before kneading. Additionally, you can brush the top of the bread with melted butter or egg wash before baking to achieve a shiny crust. \n",
      "\n",
      "Tokens Used: 802\n",
      "\tPrompt Tokens: 27\n",
      "\tCompletion Tokens: 775\n",
      "Successful Requests: 2\n",
      "Total Cost (USD): $0.0015905000000000001\n"
     ]
    }
   ],
   "source": [
    "from langchain.chat_models import ChatOpenAI\n",
    "from langchain.callbacks import get_openai_callback\n",
    "\n",
    "chat = ChatOpenAI(\n",
    "    temperature=0.1,\n",
    ")\n",
    "\n",
    "\n",
    "with get_openai_callback() as usage:\n",
    "    a = chat.predict(\"What is the recipe for soju\")\n",
    "    b = chat.predict(\"What is the recipe for bread\")\n",
    "    print(a, \"\\n\")\n",
    "    print(b, \"\\n\")\n",
    "    print(usage)"
   ]
  }
 ],
 "metadata": {
  "kernelspec": {
   "display_name": "env",
   "language": "python",
   "name": "python3"
  },
  "language_info": {
   "codemirror_mode": {
    "name": "ipython",
    "version": 3
   },
   "file_extension": ".py",
   "mimetype": "text/x-python",
   "name": "python",
   "nbconvert_exporter": "python",
   "pygments_lexer": "ipython3",
   "version": "3.11.0"
  }
 },
 "nbformat": 4,
 "nbformat_minor": 2
}
