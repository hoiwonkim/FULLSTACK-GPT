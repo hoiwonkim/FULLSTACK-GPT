{
 "cells": [
  {
   "cell_type": "code",
   "execution_count": 13,
   "metadata": {},
   "outputs": [
    {
     "name": "stdout",
     "output_type": "stream",
     "text": [
      "AI:,\n",
      "            I know this:\",\n",
      "            Capital: Ankara\",\n",
      "            Language: Turkish\",\n",
      "            Food: Kebab and Baklava\",\n",
      "            Currency: Turkish Lira\",\n",
      "            Turkey is a transcontinental country located mainly on the Anatolian Peninsula in Western Asia, with a smaller portion on the Balkan Peninsula in Southeast Europe. It has a rich history and is known for its diverse culture, beautiful landscapes, and delicious cuisine."
     ]
    },
    {
     "data": {
      "text/plain": [
       "AIMessageChunk(content='AI:,\\n            I know this:\",\\n            Capital: Ankara\",\\n            Language: Turkish\",\\n            Food: Kebab and Baklava\",\\n            Currency: Turkish Lira\",\\n            Turkey is a transcontinental country located mainly on the Anatolian Peninsula in Western Asia, with a smaller portion on the Balkan Peninsula in Southeast Europe. It has a rich history and is known for its diverse culture, beautiful landscapes, and delicious cuisine.')"
      ]
     },
     "execution_count": 13,
     "metadata": {},
     "output_type": "execute_result"
    }
   ],
   "source": [
    "from langchain.chat_models import ChatOpenAI\n",
    "from langchain.prompts.few_shot import FewShotPromptTemplate\n",
    "from langchain.callbacks import StreamingStdOutCallbackHandler\n",
    "from langchain.prompts.prompt import PromptTemplate\n",
    "\n",
    "chat = ChatOpenAI(\n",
    "    temperature=0.1, \n",
    "    streaming=True, \n",
    "    callbacks=[\n",
    "    StreamingStdOutCallbackHandler(),\n",
    "    ],\n",
    ")\n",
    "\n",
    "examples = [\n",
    "        {\n",
    "            \"question\": \"What do you know about France?\",\n",
    "            \"answer\": \"\"\",\n",
    "            Here is what I know:\",\n",
    "            Capital: Paris\",\n",
    "            Language: French\",\n",
    "            Food: Wine and Cheese\",\n",
    "            Currency: Euro,\n",
    "            \"\"\",\n",
    "        },\n",
    "        {\n",
    "            \"question\": \"What do you know about Italy?\",\n",
    "            \"answer\": \"\"\",\n",
    "            I know this:\",\n",
    "            Capital: Rome\",\n",
    "            Language: Italian\",\n",
    "            Food: Pizza and Pasta\",\n",
    "            Currency: Euro\",\n",
    "            \"\"\",\n",
    "        },\n",
    "        {\n",
    "            \"question\": \"What do you know about Greece?\",\n",
    "            \"answer\": \"\"\",\n",
    "            I know this:\",\n",
    "            Capital: Athens\",\n",
    "            Language: Greek\",\n",
    "            Food: Souvlaki and Feta Cheese\",\n",
    "            Currency: Euro\",\n",
    "            \"\"\",\n",
    "        },\n",
    "    ]\n",
    "\n",
    "example_prompt = PromptTemplate.from_template(\"Human: {question}\\nAI:{answer}\")\n",
    "\n",
    "prompt = FewShotPromptTemplate(\n",
    "    example_prompt=example_prompt,\n",
    "    examples=examples,\n",
    "    suffix=\"Human:What do you know about {country}?\",\n",
    "    input_variables=[\"country\"],\n",
    ")\n",
    "\n",
    "chain = prompt | chat\n",
    "\n",
    "chain.invoke({\"country\": \"Turkey\"})"
   ]
  }
 ],
 "metadata": {
  "kernelspec": {
   "display_name": "env",
   "language": "python",
   "name": "python3"
  },
  "language_info": {
   "codemirror_mode": {
    "name": "ipython",
    "version": 3
   },
   "file_extension": ".py",
   "mimetype": "text/x-python",
   "name": "python",
   "nbconvert_exporter": "python",
   "pygments_lexer": "ipython3",
   "version": "3.11.0"
  }
 },
 "nbformat": 4,
 "nbformat_minor": 2
}
