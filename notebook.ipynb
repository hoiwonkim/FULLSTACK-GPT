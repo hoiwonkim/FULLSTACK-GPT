{
 "cells": [
  {
   "cell_type": "code",
   "execution_count": 2,
   "metadata": {},
   "outputs": [
    {
     "name": "stdout",
     "output_type": "stream",
     "text": [
      "\n",
      "\n",
      "\u001b[1m> Entering new AgentExecutor chain...\u001b[0m\n",
      "\u001b[32;1m\u001b[1;3m\n",
      "Invoking: `StockMarketSymbolSearchTool` with `{'query': 'Stock Market Symbol for Cloudflare'}`\n",
      "\n",
      "\n",
      "\u001b[0m\u001b[36;1m\u001b[1;3mCloudflare might become a trillion-dollar stock by 2050, but a lot could happen over the next 26 years. So instead of fretting over its market cap, investors should pay closer attention to its ... Cloudflare, Inc. - Stock Quote & Chart Stock Quote & Chart Stock Quote NYSE: NET 77.96 Jan 18, 2024 4:00 PM ET Today's Change +0.89 (1.16%) Today's Volume 2,483,613 Today's Open 78.76 Previous Close 77.07 Intraday High 79.68 Intraday Low 76.63 52 Week High 86.91 52 Week Low 39.90 Pricing delayed by 20 minutes. Last Updated Jan 18, 2024 4:00 PM ET Cloudflare, Inc. is a global cloud services provider that delivers a range of services to businesses of all sizes and in all geographies. The Company's network serves as a scalable, unified control plane to deliver security, performance, and reliability across on-premise, hybrid, cloud, and software-as-a-service (SaaS) applications. In the assessment of 12-month price targets, analysts unveil insights for Cloudflare, presenting an average target of $66.8, a high estimate of $94.00, and a low estimate of $55.00. This upward ... Stock Exchange NYSE Ticker Symbol NET Full Company Profile Financial Performance In 2022, Cloudflare's revenue was $975.24 million, an increase of 48.57% compared to the previous year's $656.43 million. Losses were -$193.38 million, -25.71% less than in 2021. Financial Statements\u001b[0m\u001b[32;1m\u001b[1;3mThe stock market symbol for Cloudflare is NET. \n",
      "\n",
      "Cloudflare, Inc. is a global cloud services provider that offers a range of services to businesses of all sizes and in all geographies. Their network serves as a scalable, unified control plane to deliver security, performance, and reliability across various applications.\n",
      "\n",
      "In terms of financial performance, Cloudflare's revenue in 2022 was $975.24 million, which is a 48.57% increase compared to the previous year. The company also reduced its losses by 25.71% to -$193.38 million in 2022.\n",
      "\n",
      "To analyze if Cloudflare is a potential good investment, it's important to consider various factors such as the company's financial health, growth prospects, competitive landscape, and market trends. Additionally, it's advisable to consult with a financial advisor or conduct further research to make an informed investment decision.\u001b[0m\n",
      "\n",
      "\u001b[1m> Finished chain.\u001b[0m\n"
     ]
    },
    {
     "data": {
      "text/plain": [
       "{'input': \"Give me information on Cloudflare's stock and help me analyze if it's a potential good investment. Also tell me what symbol does the stock have.\",\n",
       " 'output': \"The stock market symbol for Cloudflare is NET. \\n\\nCloudflare, Inc. is a global cloud services provider that offers a range of services to businesses of all sizes and in all geographies. Their network serves as a scalable, unified control plane to deliver security, performance, and reliability across various applications.\\n\\nIn terms of financial performance, Cloudflare's revenue in 2022 was $975.24 million, which is a 48.57% increase compared to the previous year. The company also reduced its losses by 25.71% to -$193.38 million in 2022.\\n\\nTo analyze if Cloudflare is a potential good investment, it's important to consider various factors such as the company's financial health, growth prospects, competitive landscape, and market trends. Additionally, it's advisable to consult with a financial advisor or conduct further research to make an informed investment decision.\"}"
      ]
     },
     "execution_count": 2,
     "metadata": {},
     "output_type": "execute_result"
    }
   ],
   "source": [
    "from typing import Any, Type\n",
    "from langchain.chat_models import ChatOpenAI\n",
    "from langchain.tools import BaseTool\n",
    "from pydantic import BaseModel, Field\n",
    "from langchain.agents import initialize_agent, AgentType\n",
    "from langchain.utilities import DuckDuckGoSearchAPIWrapper\n",
    "\n",
    "llm = ChatOpenAI(temperature=0.1)\n",
    "\n",
    "\n",
    "class StockMarketSymbolSearchToolArgsSchema(BaseModel):\n",
    "    query: str = Field(\n",
    "        description=\"The query you will search for.Example query: Stock Market Symbol for Apple Company\"\n",
    "    )\n",
    "\n",
    "\n",
    "class StockMarketSymbolSearchTool(BaseTool):\n",
    "    name = \"StockMarketSymbolSearchTool\"\n",
    "    description = \"\"\"\n",
    "    Use this tool to find the stock market symbol for a company.\n",
    "    It takes a query as an argument.\n",
    "    \n",
    "    \"\"\"\n",
    "    args_schema: Type[\n",
    "        StockMarketSymbolSearchToolArgsSchema\n",
    "    ] = StockMarketSymbolSearchToolArgsSchema\n",
    "\n",
    "    def _run(self, query):\n",
    "        ddg = DuckDuckGoSearchAPIWrapper()\n",
    "        return ddg.run(query)\n",
    "\n",
    "\n",
    "agent = initialize_agent(\n",
    "    llm=llm,\n",
    "    verbose=True,\n",
    "    agent=AgentType.OPENAI_FUNCTIONS,\n",
    "    handle_parsing_errors=True,\n",
    "    tools=[\n",
    "        StockMarketSymbolSearchTool(),\n",
    "    ],\n",
    ")\n",
    "\n",
    "prompt = \"Give me information on Cloudflare's stock and help me analyze if it's a potential good investment. Also tell me what symbol does the stock have.\"\n",
    "\n",
    "agent.invoke(prompt)"
   ]
  }
 ],
 "metadata": {
  "kernelspec": {
   "display_name": "env",
   "language": "python",
   "name": "python3"
  },
  "language_info": {
   "codemirror_mode": {
    "name": "ipython",
    "version": 3
   },
   "file_extension": ".py",
   "mimetype": "text/x-python",
   "name": "python",
   "nbconvert_exporter": "python",
   "pygments_lexer": "ipython3",
   "version": "3.11.0"
  }
 },
 "nbformat": 4,
 "nbformat_minor": 2
}
